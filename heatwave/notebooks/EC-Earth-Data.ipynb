{
 "cells": [
  {
   "cell_type": "markdown",
   "metadata": {},
   "source": [
    "# Experiments\n",
    "\n",
    "- Datasets:\n",
    "    - ERA-Interim   (39 years)\n",
    "    - ERA5          (40 years)\n",
    "    - EC-Earth      (?? years)\n",
    "- Train Test:\n",
    "    - Leave 4 year out Cross Validation\n",
    "- Methods:\n",
    "    - McKinnon (PEP)\n",
    "    - Spatial Covariance (SST)\n",
    "    - Gradient Boosting Regressor (SST + Indices)"
   ]
  },
  {
   "cell_type": "markdown",
   "metadata": {},
   "source": [
    "# EC-Earth\n",
    "Om een goede spreiding van El-Niño/La Niña te krijgen, willen we alle 16 initialisaties van de oceaan gebruiken. Om interjaarlijste variabliteit en model-spin-up problemen te vermijden, kiezen we van elke run enkel het laatste jaar van de 5. Dit om de meest onafhankelijk mogelijke jaren te kiezen."
   ]
  },
  {
   "cell_type": "code",
   "execution_count": 1,
   "metadata": {},
   "outputs": [],
   "source": [
    "import sys; sys.path.append('../..')\n",
    "from heatwave import ERA, Country, utils\n",
    "\n",
    "import matplotlib.pyplot as plt\n",
    "\n",
    "from netCDF4 import Dataset, num2date\n",
    "import numpy as np\n",
    "\n",
    "import os"
   ]
  },
  {
   "cell_type": "code",
   "execution_count": 36,
   "metadata": {},
   "outputs": [],
   "source": [
    "INPUT = '/Volumes/Samsung_T5/Thesis/EC-Earth'\n",
    "OUTPUT = os.path.join(INPUT, '160')\n",
    "\n",
    "STARTS = range(1, 17)\n",
    "MEMBERS = range(0, 10)\n",
    "YEARS = [2039]\n",
    "\n",
    "# # TOS\n",
    "# VAR = 'tos'\n",
    "# FORMAT = 'tos_PD/tos_d_s{0:02d}/tos_d_ECEarth_PD_s{0:02d}r{1:02d}_{2:04d}.nc'\n",
    "# INDEX = [None, slice(8, 90)]\n",
    "\n",
    "# # TAS\n",
    "# VAR = 'tas'\n",
    "# FORMAT = 'tas_PD_US/tas_d_ECEarth_PD_s{0:02d}r{1:02d}_{2:04d}_US.nc'\n",
    "# INDEX = []\n",
    "\n",
    "# # MRLSL\n",
    "# VAR = 'mrlsl4'\n",
    "# FORMAT = VAR+'_PD/'+VAR+'_d_s{0:02d}_US/'+VAR+'_d_ECEarth_PD_s{0:02d}r{1:02d}_{2:04d}_US.nc'\n",
    "# INDEX = []\n",
    "\n",
    "# PSL\n",
    "VAR = 'psl'\n",
    "FORMAT = 'psl_PD/psl_d_s{0:02d}/psl_d_ECEarth_PD_s{0:02d}r{1:02d}_{2:04d}.nc'\n",
    "INDEX = [None, slice(8, 90)]\n",
    "\n",
    "OUTPUT = os.path.join(OUTPUT, VAR+'_d_ECEarth_PD_1start_10ens_lastyr.nc')\n",
    "\n",
    "KWARGS = dict(longitude_key='lon', latitude_key='lat', time_unit='D', time_origin='2000-01-01')"
   ]
  },
  {
   "cell_type": "code",
   "execution_count": 37,
   "metadata": {},
   "outputs": [],
   "source": [
    "def walk(root: str, path_format: str, starts: list, members: list, years: list):\n",
    "    for start in starts:\n",
    "        for member in members:\n",
    "            for year in years:\n",
    "                yield os.path.join(root, path_format.format(start, member, year))"
   ]
  },
  {
   "cell_type": "code",
   "execution_count": 38,
   "metadata": {},
   "outputs": [
    {
     "name": "stdout",
     "output_type": "stream",
     "text": [
      "Processing /Volumes/Samsung_T5/Thesis/EC-Earth/psl_PD/psl_d_s16/psl_d_ECEarth_PD_s16r09_2039.nc"
     ]
    }
   ],
   "source": [
    "if os.path.exists(OUTPUT): os.remove(OUTPUT)\n",
    "\n",
    "dataset = Dataset(OUTPUT, 'w', format='NETCDF4_CLASSIC')\n",
    "\n",
    "time_index = 0\n",
    "\n",
    "for path in walk(INPUT, FORMAT, STARTS, MEMBERS, YEARS):\n",
    "    \n",
    "    print(f\"\\rProcessing {path}\", end=\"\")\n",
    "    \n",
    "    data = ERA(path, VAR, index=INDEX, **KWARGS)\n",
    "    \n",
    "    if time_index == 0:\n",
    "        time = dataset.createDimension('time', None)\n",
    "        lat = dataset.createDimension('lat', data.shape[1])\n",
    "        lon = dataset.createDimension('lon', data.shape[2])\n",
    "        \n",
    "        times = dataset.createVariable('time', np.float32, ('time',))\n",
    "        latitudes = dataset.createVariable('lat', np.float32, ('lat',))\n",
    "        longitudes = dataset.createVariable('lon', np.float32, ('lon',))\n",
    "        var = dataset.createVariable(VAR, np.float32, ('time','lat','lon'))\n",
    "        \n",
    "        latitudes[:] = data.latitude\n",
    "        longitudes[:] = data.longitude\n",
    "        \n",
    "        # Metadata\n",
    "        var.author = data.dataset.author\n",
    "        var.experiment = data.dataset.experiment\n",
    "        \n",
    "        times.units = \"days since 2000-01-01 12:00:00\"\n",
    "        times.calendar = 'noleap'\n",
    "        \n",
    "        latitudes.units = data.dataset['lat'].units\n",
    "        longitudes.units = data.dataset['lon'].units\n",
    "        var.units = data.dataset[VAR].units\n",
    "        \n",
    "    time_values = data.time.values.ravel() + time_index\n",
    "    time_length = len(time_values)\n",
    "        \n",
    "    var[time_index:time_index+time_length, :, :] = data.data\n",
    "    times[time_index:time_index+time_length] = time_values\n",
    "    \n",
    "    time_index += time_length\n",
    "\n",
    "dataset.close()"
   ]
  },
  {
   "cell_type": "code",
   "execution_count": 39,
   "metadata": {},
   "outputs": [
    {
     "data": {
      "text/plain": [
       "array([ 80.18531   ,  79.06398   ,  77.94263   ,  76.82124   ,\n",
       "        75.699844  ,  74.57843   ,  73.45701   ,  72.33558   ,\n",
       "        71.214134  ,  70.09269   ,  68.97124   ,  67.849785  ,\n",
       "        66.728325  ,  65.606865  ,  64.4854    ,  63.363934  ,\n",
       "        62.242462  ,  61.12099   ,  59.99952   ,  58.878044  ,\n",
       "        57.75657   ,  56.635094  ,  55.513615  ,  54.392136  ,\n",
       "        53.270657  ,  52.149174  ,  51.027695  ,  49.90621   ,\n",
       "        48.78473   ,  47.663246  ,  46.541763  ,  45.42028   ,\n",
       "        44.298794  ,  43.17731   ,  42.055824  ,  40.934338  ,\n",
       "        39.81285   ,  38.691364  ,  37.56988   ,  36.44839   ,\n",
       "        35.326904  ,  34.205418  ,  33.08393   ,  31.962444  ,\n",
       "        30.840956  ,  29.719467  ,  28.597979  ,  27.47649   ,\n",
       "        26.355003  ,  25.233515  ,  24.112024  ,  22.990536  ,\n",
       "        21.869047  ,  20.747559  ,  19.62607   ,  18.50458   ,\n",
       "        17.383091  ,  16.2616    ,  15.140112  ,  14.018622  ,\n",
       "        12.897133  ,  11.775643  ,  10.654153  ,   9.532663  ,\n",
       "         8.411174  ,   7.2896843 ,   6.1681943 ,   5.0467043 ,\n",
       "         3.9252145 ,   2.8037248 ,   1.6822349 ,   0.56074494,\n",
       "        -0.56074494,  -1.6822349 ,  -2.8037248 ,  -3.9252145 ,\n",
       "        -5.0467043 ,  -6.1681943 ,  -7.2896843 ,  -8.411174  ,\n",
       "        -9.532663  , -10.654153  ], dtype=float32)"
      ]
     },
     "execution_count": 39,
     "metadata": {},
     "output_type": "execute_result"
    }
   ],
   "source": [
    "data = ERA(OUTPUT, VAR, **KWARGS)\n",
    "\n",
    "data.latitude\n",
    "\n",
    "# utils.plot_earth()\n",
    "# plt.pcolormesh(data.longitude, data.latitude, data.data[0])\n",
    "# plt.show()"
   ]
  }
 ],
 "metadata": {
  "kernelspec": {
   "display_name": "Python 3",
   "language": "python",
   "name": "python3"
  },
  "language_info": {
   "codemirror_mode": {
    "name": "ipython",
    "version": 3
   },
   "file_extension": ".py",
   "mimetype": "text/x-python",
   "name": "python",
   "nbconvert_exporter": "python",
   "pygments_lexer": "ipython3",
   "version": "3.6.6"
  }
 },
 "nbformat": 4,
 "nbformat_minor": 2
}
