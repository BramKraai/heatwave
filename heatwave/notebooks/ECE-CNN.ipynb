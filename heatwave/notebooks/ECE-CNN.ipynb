{
 "cells": [
  {
   "cell_type": "code",
   "execution_count": 16,
   "metadata": {},
   "outputs": [],
   "source": [
    "# Add Heatwave Root to PYTHONPATH\n",
    "import sys; sys.path.append('../..')\n",
    "\n",
    "from heatwave import ERA\n",
    "\n",
    "import tensorflow as tf\n",
    "from keras import Sequential\n",
    "from keras.utils import Sequence\n",
    "from keras.layers import *\n",
    "from keras.regularizers import *\n",
    "\n",
    "from sklearn.metrics import roc_auc_score, roc_curve\n",
    "import matplotlib.pyplot as plt\n",
    "\n",
    "import numpy as np\n",
    "import pandas as pd\n",
    "\n",
    "import os"
   ]
  },
  {
   "cell_type": "markdown",
   "metadata": {},
   "source": [
    "# EC-Earth x Convolutional Neural Network"
   ]
  },
  {
   "cell_type": "markdown",
   "metadata": {},
   "source": [
    "## TODO\n",
    "1. Common pitfall. An important point to make about the preprocessing is that any preprocessing statistics (e.g. the data mean) must only be computed on the training data, and then applied to the validation / test data. E.g. computing the mean and subtracting it from every image across the entire dataset and then splitting the data into train/val/test splits would be a mistake. Instead, the mean must be computed only over the training data and then subtracted equally from all splits (train/val/test).\n",
    "2. A more recent paper on this topic, Delving Deep into Rectifiers: Surpassing Human-Level Performance on ImageNet Classification by He et al., derives an initialization specifically for ReLU neurons, reaching the conclusion that the variance of neurons in the network should be 2.0/n. This gives the initialization w = np.random.randn(n) * sqrt(2.0/n), and is the current recommendation for use in practice in the specific case of neural networks with ReLU neurons.\n",
    "3. Batch Normalization. A recently developed technique by Ioffe and Szegedy called Batch Normalization alleviates a lot of headaches with properly initializing neural networks by explicitly forcing the activations throughout a network to take on a unit gaussian distribution at the beginning of the training. The core observation is that this is possible because normalization is a simple differentiable operation. In the implementation, applying this technique usually amounts to insert the BatchNorm layer immediately after fully connected layers (or convolutional layers, as we’ll soon see), and before non-linearities. We do not expand on this technique here because it is well described in the linked paper, but note that it has become a very common practice to use Batch Normalization in neural networks. In practice networks that use Batch Normalization are significantly more robust to bad initialization. Additionally, batch normalization can be interpreted as doing preprocessing at every layer of the network, but integrated into the network itself in a differentiable manner. Neat!\n",
    "4. Regularization!!!! : In practice, if you are not concerned with explicit feature selection, L2 regularization can be expected to give superior performance over L1.\n",
    "5. Dropout! In practice: It is most common to use a single, global L2 regularization strength that is cross-validated. It is also common to combine this with dropout applied after all layers. The value of p=0.5 is a reasonable default, but this can be tuned on validation data.\n",
    "6. Word of caution: It is important to note that the L2 loss is much harder to optimize than a more stable loss such as Softmax. Intuitively, it requires a very fragile and specific property from the network to output exactly one correct value for each input (and its augmentations). Notice that this is not the case with Softmax, where the precise value of each score is less important: It only matters that their magnitudes are appropriate. Additionally, the L2 loss is less robust because outliers can introduce huge gradients. When faced with a regression problem, first consider if it is absolutely inadequate to quantize the output into bins. For example, if you are predicting star rating for a product, it might work much better to use 5 independent classifiers for ratings of 1-5 stars instead of a regression loss. Classification has the additional benefit that it can give you a distribution over the regression outputs, not just a single output with no indication of its confidence. If you’re certain that classification is not appropriate, use the L2 but be careful: For example, the L2 is more fragile and applying dropout in the network (especially in the layer right before the L2 loss) is not a great idea."
   ]
  },
  {
   "cell_type": "code",
   "execution_count": 44,
   "metadata": {},
   "outputs": [],
   "source": [
    "# Helper Functions\n",
    "\n",
    "def auc(y_true, y_pred):\n",
    "    auc = tf.metrics.auc(y_true, y_pred)[1]\n",
    "    K.get_session().run(tf.local_variables_initializer())\n",
    "    return auc\n",
    "    \n",
    "def plot_roc(y_true, y_predict):\n",
    "    # Plot Receiver Operating Characteristic Curve with Area Under Curve Score\n",
    "    fpr, tpr, thr = roc_curve(y_true, y_predict)\n",
    "    auc = roc_auc_score(y_true, y_predict)\n",
    "\n",
    "    plt.title(f\"ROC Curve - AUC: {auc:5.5f}\")\n",
    "    plt.plot([0, 1], [0, 1], linestyle=\"--\", c=\"gray\")\n",
    "    plt.plot(fpr, tpr)\n",
    "    plt.xlim(0, 1)\n",
    "    plt.ylim(0, 1)\n",
    "    plt.xlabel(\"False Positive Ratio\")\n",
    "    plt.ylabel(\"True Positive Ratio\")"
   ]
  },
  {
   "cell_type": "markdown",
   "metadata": {},
   "source": [
    "## Loading & Transforming EC-Earth Data"
   ]
  },
  {
   "cell_type": "code",
   "execution_count": 124,
   "metadata": {},
   "outputs": [],
   "source": [
    "DATA_ROOT = os.path.abspath(\"/Volumes/Samsung_T5/Thesis\")\n",
    "ECE_ROOT = os.path.join(DATA_ROOT, 'EC-Earth')\n",
    "TMP_ROOT = os.path.join(DATA_ROOT, 'tmp')\n",
    "\n",
    "SESSIONS = range(1, 17)\n",
    "REPETITIONS = range(0, 24)\n",
    "YEARS = [2039]\n",
    "SHAPE = (160, 320)\n",
    "\n",
    "SUMMER_START, SUMMER_END = 174, 234\n",
    "SUMMER_LENGTH = SUMMER_END - SUMMER_START\n",
    "\n",
    "LAG = 50\n",
    "WINDOW = 14\n",
    "\n",
    "def walk(sessions):\n",
    "    assert all([session in SESSIONS for session in sessions])\n",
    "    \n",
    "    for session in sessions:\n",
    "        for repetition in REPETITIONS:\n",
    "            for i, year in enumerate(YEARS):\n",
    "                year_code = f\"{session:02d}{repetition*len(YEARS)+i:02d}\"\n",
    "                \n",
    "                yield session, repetition, year, year_code\n",
    "      \n",
    "    \n",
    "def load_T95(path) -> pd.DataFrame:\n",
    "    df = pd.read_csv(path, names=[\"date\", \"series\"])\n",
    "\n",
    "    # Set Date as Index\n",
    "    df[\"date\"] = pd.PeriodIndex(df[\"date\"], freq='D')\n",
    "    df = df.set_index(\"date\")\n",
    "\n",
    "    return df\n",
    "                \n",
    "\n",
    "def load_sst(session, repetition, year):\n",
    "    path = os.path.join(ECE_ROOT, f'tos_d_s{session:02d}', f'tos_d_ECEarth_PD_s{session:02d}r{repetition:02d}_{year:04d}.nc')\n",
    "    return ERA(path, 'tos', index=[slice(SUMMER_START-LAG-WINDOW, SUMMER_END-LAG)], latitude_key='lat', longitude_key='lon', time_origin=f'{year}-01-01')\n",
    "\n",
    "\n",
    "def moving_average(a, n) :\n",
    "    ret = np.cumsum(a, axis=0)\n",
    "    ret[n:] = ret[n:] - ret[:-n]\n",
    "    return ret[n:] / n\n",
    "\n",
    "\n",
    "class Anomaly(Sequence):\n",
    "    def __init__(self, sessions, T95):\n",
    "        self._sessions = sessions\n",
    "        self._T95 = T95\n",
    "        self._length = (len(sessions)*len(REPETITIONS)*len(YEARS))\n",
    "    \n",
    "        # Calculate SST mean, if not already buffered\n",
    "        sst_mean_path = os.path.join(TMP_ROOT, \"{}_mean_{}.npy\".format('_'.join([str(s) for s in sessions]), LAG))\n",
    "        if not os.path.exists(sst_mean_path):\n",
    "            self._sst_mean = np.zeros((SUMMER_LENGTH+WINDOW, *SHAPE), np.float32)\n",
    "            for i, (session, repetition, year, year_code) in enumerate(walk(sessions)):\n",
    "                print(f\"\\rCalculating SST mean: {float(i)/self._length:1.0%}\", end=\"\")\n",
    "                self._sst_mean += load_sst(session, repetition, year).data\n",
    "            self._sst_mean /= self._length\n",
    "            np.save(sst_mean_path, self._sst_mean)\n",
    "            print()\n",
    "        else:\n",
    "            self._sst_mean = np.load(sst_mean_path)\n",
    "            \n",
    "        self._weight = np.mean([self._T95[f'{s:02d}00': f'{s:02d}99'].mean() for s in self._sessions])\n",
    "        \n",
    "    @property\n",
    "    def weights(self):\n",
    "        return {0: self._weight, 1: 1-self._weight}\n",
    "    \n",
    "    def get(self, session, repetition, year):\n",
    "        return moving_average(load_sst(session, repetition, year).data - self._sst_mean, WINDOW)\n",
    "    \n",
    "    def __len__(self):\n",
    "        return self._length\n",
    "    \n",
    "    def __getitem__(self, idx):\n",
    "        residual, year_idx = divmod(idx, len(YEARS))\n",
    "        session_idx, repetition = divmod(residual, len(REPETITIONS))\n",
    "        year = YEARS[year_idx]\n",
    "        session = self._sessions[session_idx]\n",
    "        \n",
    "        year_code = f\"{session:02d}{repetition*len(YEARS)+year_idx:02d}\"\n",
    "        \n",
    "        X = np.array(self.get(session, repetition, year)[..., None])\n",
    "        y = self._T95[year_code].values.ravel()\n",
    "        \n",
    "            \n",
    "        return X, y\n",
    "    \n",
    "    def __iter__(self):\n",
    "        for i in range(len(self)):\n",
    "            yield self[i]"
   ]
  },
  {
   "cell_type": "code",
   "execution_count": 56,
   "metadata": {},
   "outputs": [],
   "source": [
    "T95 = load_T95(os.path.join(DATA_ROOT, 'heatwave_ECE.csv'))"
   ]
  },
  {
   "cell_type": "code",
   "execution_count": 57,
   "metadata": {},
   "outputs": [],
   "source": [
    "T95_binary = (T95 > 1).astype(np.float32)\n",
    "T95_ONE_HOT = pd.get_dummies(T95.values.ravel() > 1).astype(np.float32)\n",
    "T95_ONE_HOT.index = T95.index"
   ]
  },
  {
   "cell_type": "markdown",
   "metadata": {},
   "source": [
    "## Create Neural Network"
   ]
  },
  {
   "cell_type": "code",
   "execution_count": 153,
   "metadata": {},
   "outputs": [
    {
     "name": "stdout",
     "output_type": "stream",
     "text": [
      "_________________________________________________________________\n",
      "Layer (type)                 Output Shape              Param #   \n",
      "=================================================================\n",
      "average_pooling2d_46 (Averag (None, 160, 320, 1)       0         \n",
      "_________________________________________________________________\n",
      "conv2d_187 (Conv2D)          (None, 160, 320, 8)       80        \n",
      "_________________________________________________________________\n",
      "batch_normalization_231 (Bat (None, 160, 320, 8)       32        \n",
      "_________________________________________________________________\n",
      "conv2d_188 (Conv2D)          (None, 160, 320, 8)       584       \n",
      "_________________________________________________________________\n",
      "batch_normalization_232 (Bat (None, 160, 320, 8)       32        \n",
      "_________________________________________________________________\n",
      "max_pooling2d_117 (MaxPoolin (None, 80, 160, 8)        0         \n",
      "_________________________________________________________________\n",
      "dropout_161 (Dropout)        (None, 80, 160, 8)        0         \n",
      "_________________________________________________________________\n",
      "conv2d_189 (Conv2D)          (None, 80, 160, 16)       1168      \n",
      "_________________________________________________________________\n",
      "batch_normalization_233 (Bat (None, 80, 160, 16)       64        \n",
      "_________________________________________________________________\n",
      "conv2d_190 (Conv2D)          (None, 80, 160, 16)       2320      \n",
      "_________________________________________________________________\n",
      "batch_normalization_234 (Bat (None, 80, 160, 16)       64        \n",
      "_________________________________________________________________\n",
      "max_pooling2d_118 (MaxPoolin (None, 40, 80, 16)        0         \n",
      "_________________________________________________________________\n",
      "dropout_162 (Dropout)        (None, 40, 80, 16)        0         \n",
      "_________________________________________________________________\n",
      "conv2d_191 (Conv2D)          (None, 40, 80, 32)        4640      \n",
      "_________________________________________________________________\n",
      "batch_normalization_235 (Bat (None, 40, 80, 32)        128       \n",
      "_________________________________________________________________\n",
      "conv2d_192 (Conv2D)          (None, 40, 80, 32)        9248      \n",
      "_________________________________________________________________\n",
      "batch_normalization_236 (Bat (None, 40, 80, 32)        128       \n",
      "_________________________________________________________________\n",
      "max_pooling2d_119 (MaxPoolin (None, 20, 40, 32)        0         \n",
      "_________________________________________________________________\n",
      "dropout_163 (Dropout)        (None, 20, 40, 32)        0         \n",
      "_________________________________________________________________\n",
      "conv2d_193 (Conv2D)          (None, 20, 40, 64)        18496     \n",
      "_________________________________________________________________\n",
      "batch_normalization_237 (Bat (None, 20, 40, 64)        256       \n",
      "_________________________________________________________________\n",
      "conv2d_194 (Conv2D)          (None, 20, 40, 64)        36928     \n",
      "_________________________________________________________________\n",
      "batch_normalization_238 (Bat (None, 20, 40, 64)        256       \n",
      "_________________________________________________________________\n",
      "max_pooling2d_120 (MaxPoolin (None, 10, 20, 64)        0         \n",
      "_________________________________________________________________\n",
      "dropout_164 (Dropout)        (None, 10, 20, 64)        0         \n",
      "_________________________________________________________________\n",
      "conv2d_195 (Conv2D)          (None, 10, 20, 128)       73856     \n",
      "_________________________________________________________________\n",
      "batch_normalization_239 (Bat (None, 10, 20, 128)       512       \n",
      "_________________________________________________________________\n",
      "conv2d_196 (Conv2D)          (None, 10, 20, 128)       147584    \n",
      "_________________________________________________________________\n",
      "batch_normalization_240 (Bat (None, 10, 20, 128)       512       \n",
      "_________________________________________________________________\n",
      "max_pooling2d_121 (MaxPoolin (None, 5, 10, 128)        0         \n",
      "_________________________________________________________________\n",
      "dropout_165 (Dropout)        (None, 5, 10, 128)        0         \n",
      "_________________________________________________________________\n",
      "flatten_43 (Flatten)         (None, 6400)              0         \n",
      "_________________________________________________________________\n",
      "dense_76 (Dense)             (None, 200)               1280200   \n",
      "_________________________________________________________________\n",
      "batch_normalization_241 (Bat (None, 200)               800       \n",
      "_________________________________________________________________\n",
      "dropout_166 (Dropout)        (None, 200)               0         \n",
      "_________________________________________________________________\n",
      "output (Dense)               (None, 1)                 201       \n",
      "=================================================================\n",
      "Total params: 1,578,089\n",
      "Trainable params: 1,576,697\n",
      "Non-trainable params: 1,392\n",
      "_________________________________________________________________\n"
     ]
    }
   ],
   "source": [
    "ACTIVATION = tf.nn.relu\n",
    "PADDING = 'same'\n",
    "REGULARIZER = l2(0.015)\n",
    "\n",
    "CONV2D_KWARGS = {'activation': ACTIVATION, 'padding': PADDING, 'kernel_regularizer': REGULARIZER}\n",
    "    \n",
    "model = Sequential()\n",
    "\n",
    "model.add(AvgPool2D(1, input_shape=(*SHAPE, 1)))\n",
    "\n",
    "model.add(Conv2D(8, 3, **CONV2D_KWARGS))\n",
    "model.add(BatchNormalization())\n",
    "model.add(Conv2D(8, 3, **CONV2D_KWARGS))\n",
    "model.add(BatchNormalization())\n",
    "\n",
    "model.add(MaxPool2D(2))\n",
    "model.add(Dropout(0.5))\n",
    "\n",
    "model.add(Conv2D(16, 3, **CONV2D_KWARGS))\n",
    "model.add(BatchNormalization())\n",
    "model.add(Conv2D(16, 3, **CONV2D_KWARGS))\n",
    "model.add(BatchNormalization())\n",
    "\n",
    "model.add(MaxPool2D(2))\n",
    "model.add(Dropout(0.5))\n",
    "\n",
    "model.add(Conv2D(32, 3, **CONV2D_KWARGS))\n",
    "model.add(BatchNormalization())\n",
    "model.add(Conv2D(32, 3, **CONV2D_KWARGS))\n",
    "model.add(BatchNormalization())\n",
    "\n",
    "model.add(MaxPool2D(2))\n",
    "model.add(Dropout(0.5))\n",
    "\n",
    "model.add(Conv2D(64, 3, **CONV2D_KWARGS))\n",
    "model.add(BatchNormalization())\n",
    "model.add(Conv2D(64, 3, **CONV2D_KWARGS))\n",
    "model.add(BatchNormalization())\n",
    "\n",
    "model.add(MaxPool2D(2))\n",
    "model.add(Dropout(0.5))\n",
    "\n",
    "model.add(Conv2D(128, 3, **CONV2D_KWARGS))\n",
    "model.add(BatchNormalization())\n",
    "model.add(Conv2D(128, 3, **CONV2D_KWARGS))\n",
    "model.add(BatchNormalization())\n",
    "\n",
    "model.add(MaxPool2D(2))\n",
    "model.add(Dropout(0.25))\n",
    " \n",
    "model.add(Flatten())\n",
    "\n",
    "model.add(Dense(200, activation=tf.nn.relu))\n",
    "model.add(BatchNormalization())\n",
    "model.add(Dropout(0.5))\n",
    "\n",
    "model.add(Dense(1, activation=tf.nn.sigmoid, name=\"output\"))\n",
    "model.compile(loss='binary_crossentropy', optimizer='adam', metrics=['accuracy', auc])\n",
    "\n",
    "model.summary()"
   ]
  },
  {
   "cell_type": "code",
   "execution_count": 154,
   "metadata": {},
   "outputs": [],
   "source": [
    "TRAIN_SET = slice(0, 4)\n",
    "VALIDATION_SET = slice(4, 6)\n",
    "TEST_SET = slice(6, 8)\n",
    "\n",
    "Y = T95_binary\n",
    "\n",
    "train = Anomaly(SESSIONS[TRAIN_SET], Y)\n",
    "validation = Anomaly(SESSIONS[VALIDATION_SET], Y)\n",
    "test = Anomaly(SESSIONS[TEST_SET], Y)"
   ]
  },
  {
   "cell_type": "markdown",
   "metadata": {},
   "source": [
    "## Train Neural Network"
   ]
  },
  {
   "cell_type": "code",
   "execution_count": null,
   "metadata": {},
   "outputs": [
    {
     "name": "stdout",
     "output_type": "stream",
     "text": [
      "Epoch 1/1\n",
      "90/96 [===========================>..] - ETA: 54s - loss: 5.2847 - acc: 0.4963 - auc: 0.5100 "
     ]
    },
    {
     "name": "stderr",
     "output_type": "stream",
     "text": [
      "\n",
      "KeyboardInterrupt\n",
      "\n"
     ]
    }
   ],
   "source": [
    "model.fit_generator(generator=train, validation_data=validation, epochs=1, class_weight=train.weights)"
   ]
  },
  {
   "cell_type": "code",
   "execution_count": 145,
   "metadata": {},
   "outputs": [
    {
     "data": {
      "text/plain": [
       "[0.767751393529276, 0.7288194467158368, 0.5236632625261942]"
      ]
     },
     "execution_count": 145,
     "metadata": {},
     "output_type": "execute_result"
    }
   ],
   "source": [
    "model.evaluate_generator(test)"
   ]
  },
  {
   "cell_type": "code",
   "execution_count": 146,
   "metadata": {},
   "outputs": [
    {
     "data": {
      "image/png": "[encoded data removed]",
      "text/plain": [
       "<Figure size 432x288 with 1 Axes>"
      ]
     },
     "metadata": {
      "needs_background": "light"
     },
     "output_type": "display_data"
    }
   ],
   "source": [
    "y_predict = model.predict_generator(test).ravel()\n",
    "y_true = np.concatenate([y for X,y in test])\n",
    "\n",
    "plot_roc(y_true, y_predict)"
   ]
  },
  {
   "cell_type": "code",
   "execution_count": 147,
   "metadata": {},
   "outputs": [
    {
     "data": {
      "image/png": "[encoded data removed]",
      "text/plain": [
       "<Figure size 432x288 with 1 Axes>"
      ]
     },
     "metadata": {
      "needs_background": "light"
     },
     "output_type": "display_data"
    }
   ],
   "source": [
    "plt.plot(y_true[:1000])\n",
    "plt.plot(y_predict[:1000])\n",
    "plt.show()"
   ]
  }
 ],
 "metadata": {
  "kernelspec": {
   "display_name": "Python 3",
   "language": "python",
   "name": "python3"
  },
  "language_info": {
   "codemirror_mode": {
    "name": "ipython",
    "version": 3
   },
   "file_extension": ".py",
   "mimetype": "text/x-python",
   "name": "python",
   "nbconvert_exporter": "python",
   "pygments_lexer": "ipython3",
   "version": "3.6.6"
  }
 },
 "nbformat": 4,
 "nbformat_minor": 2
}
